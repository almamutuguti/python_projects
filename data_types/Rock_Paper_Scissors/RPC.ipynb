{
 "cells": [
  {
   "cell_type": "markdown",
   "id": "70def06e",
   "metadata": {},
   "source": [
    "## ROCK PAPER SCISSORS\n"
   ]
  },
  {
   "cell_type": "code",
   "execution_count": 6,
   "id": "eafb6adb",
   "metadata": {},
   "outputs": [
    {
     "name": "stdout",
     "output_type": "stream",
     "text": [
      "You chose: Scissors\n",
      "Computer chose: Rock\n",
      "You win!\n"
     ]
    }
   ],
   "source": [
    "game_choices = [\"Rock\", \"Paper\", \"Scissors\"]\n",
    "users_choice = int(input(\"What do you choose?Type 0 for rock 1 for paper and 2 for scissors.\\n\"))\n",
    "if users_choice <=0 or users_choice >=2:\n",
    "    print(f\"You chose: {game_choices[users_choice]}\")\n",
    "else:\n",
    "    print(\"Try again\")\n",
    "\n",
    "import random\n",
    "computers_choice = random.randint(0, 2)\n",
    "print(f\"Computer chose: {game_choices[computers_choice]}\")\n",
    "\n",
    "if users_choice >=3 or users_choice <0:\n",
    "    print(\"You typed an invalid number.You lose!\")\n",
    "elif computers_choice == 2 and users_choice == 0:\n",
    "    print(\"You win!\")\n",
    "elif computers_choice > users_choice:\n",
    "    print(\"You lose!\")\n",
    "elif computers_choice < users_choice:\n",
    "    print(\"You win!\")\n",
    "elif computers_choice == 0 and users_choice == 2:\n",
    "    print(\"You lose!\")\n",
    "elif computers_choice == users_choice:\n",
    "    print(\"It's a draw\")\n",
    "elif computers_choice == 0 and users_choice == 2:\n",
    "    print(\"You lose!\")\n",
    "else:\n",
    "    print(\"Try again\")\n"
   ]
  }
 ],
 "metadata": {
  "kernelspec": {
   "display_name": "virtual",
   "language": "python",
   "name": "python3"
  },
  "language_info": {
   "codemirror_mode": {
    "name": "ipython",
    "version": 3
   },
   "file_extension": ".py",
   "mimetype": "text/x-python",
   "name": "python",
   "nbconvert_exporter": "python",
   "pygments_lexer": "ipython3",
   "version": "3.13.7"
  }
 },
 "nbformat": 4,
 "nbformat_minor": 5
}
