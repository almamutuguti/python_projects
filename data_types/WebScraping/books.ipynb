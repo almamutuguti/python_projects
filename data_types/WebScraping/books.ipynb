{
 "cells": [
  {
   "cell_type": "code",
   "execution_count": null,
   "id": "d0316abc",
   "metadata": {},
   "outputs": [
    {
     "ename": "TypeError",
     "evalue": "'WebElement' object is not subscriptable",
     "output_type": "error",
     "traceback": [
      "\u001b[31m---------------------------------------------------------------------------\u001b[39m",
      "\u001b[31mTypeError\u001b[39m                                 Traceback (most recent call last)",
      "\u001b[36mCell\u001b[39m\u001b[36m \u001b[39m\u001b[32mIn[5]\u001b[39m\u001b[32m, line 29\u001b[39m\n\u001b[32m     26\u001b[39m books = driver.find_elements(By.CLASS_NAME, \u001b[33m\"\u001b[39m\u001b[33mproduct_pod\u001b[39m\u001b[33m\"\u001b[39m)\n\u001b[32m     28\u001b[39m \u001b[38;5;28;01mfor\u001b[39;00m book \u001b[38;5;129;01min\u001b[39;00m books:\n\u001b[32m---> \u001b[39m\u001b[32m29\u001b[39m     cover_url = \u001b[43mbook\u001b[49m\u001b[43m.\u001b[49m\u001b[43mfind_element\u001b[49m\u001b[43m(\u001b[49m\u001b[43mBy\u001b[49m\u001b[43m.\u001b[49m\u001b[43mTAG_NAME\u001b[49m\u001b[43m,\u001b[49m\u001b[43m \u001b[49m\u001b[33;43m\"\u001b[39;49m\u001b[33;43mimg\u001b[39;49m\u001b[33;43m\"\u001b[39;49m\u001b[43m)\u001b[49m\u001b[43m[\u001b[49m\u001b[33;43m\"\u001b[39;49m\u001b[33;43msrc\u001b[39;49m\u001b[33;43m\"\u001b[39;49m\u001b[43m]\u001b[49m\n\u001b[32m     30\u001b[39m     rating_tag= book.find_element(By.CLASS_NAME, \u001b[33m\"\u001b[39m\u001b[33mstar-rating\u001b[39m\u001b[33m\"\u001b[39m)\n\u001b[32m     31\u001b[39m     rating = rating_tag[\u001b[33m\"\u001b[39m\u001b[33mclass\u001b[39m\u001b[33m\"\u001b[39m][\u001b[32m1\u001b[39m] \u001b[38;5;28;01mif\u001b[39;00m rating_tag \u001b[38;5;129;01mand\u001b[39;00m \u001b[38;5;28mlen\u001b[39m(rating_tag[\u001b[33m\"\u001b[39m\u001b[33mclass\u001b[39m\u001b[33m\"\u001b[39m]) > \u001b[32m1\u001b[39m \u001b[38;5;28;01melse\u001b[39;00m \u001b[33m\"\u001b[39m\u001b[33mN/A\u001b[39m\u001b[33m\"\u001b[39m\n",
      "\u001b[31mTypeError\u001b[39m: 'WebElement' object is not subscriptable"
     ]
    }
   ],
   "source": [
    "import requests\n",
    "from bs4 import BeautifulSoup\n",
    "import csv\n",
    "from selenium import webdriver\n",
    "from selenium.webdriver.chrome.service import Service\n",
    "from selenium.webdriver.common.by import By\n",
    "import time\n",
    "\n",
    "service = Service()\n",
    "\n",
    "driver = webdriver.Chrome(service=service)\n",
    "\n",
    "csv_file = \"books.csv\"\n",
    "base_url = \"https://books.toscrape.com/catalogue/page-{}.html\"\n",
    "\n",
    "with open(csv_file, mode=\"w\", encoding=\"utf-8\", newline=\"\") as file:\n",
    "    writer = csv.writer(file)\n",
    "    writer.writerow([\"Cover URL\", \"Title\", \"Rating\", \"Price\", \"Availability\"])\n",
    "\n",
    "    page = 1\n",
    "    while True:\n",
    "    \n",
    "        url = base_url.format(page)\n",
    "        driver.get(url)\n",
    "\n",
    "        books = driver.find_elements(By.CLASS_NAME, \"product_pod\")\n",
    "\n",
    "        for book in books:\n",
    "            cover_url = book.find_element(By.NAME, \"img\")[\"src\"]\n",
    "            rating_tag= book.find_element(By.CLASS_NAME, \"star-rating\")\n",
    "            rating = rating_tag[\"class\"][1] if rating_tag and len(rating_tag[\"class\"]) > 1 else \"N/A\"\n",
    "            title = book.find_element(\"h3 a\")[\"title\"]\n",
    "            price = book.find_element(By.CLASS_NAME, \"price_color\").text\n",
    "            availability = book.find_element(By.CLASS_NAME, \"instock\").text.strip()\n",
    "\n",
    "            writer.writerow([cover_url, title, rating, price, availability])\n",
    "\n",
    "        page +=1\n",
    "        time.sleep(5)\n",
    "        driver.quit()\n",
    "\n",
    "print(f\"All books saved to {csv_file}\")\n",
    "\n",
    "\n",
    "\n",
    "   \n",
    "\n",
    "    \n",
    "\n"
   ]
  }
 ],
 "metadata": {
  "kernelspec": {
   "display_name": "virtual",
   "language": "python",
   "name": "python3"
  },
  "language_info": {
   "codemirror_mode": {
    "name": "ipython",
    "version": 3
   },
   "file_extension": ".py",
   "mimetype": "text/x-python",
   "name": "python",
   "nbconvert_exporter": "python",
   "pygments_lexer": "ipython3",
   "version": "3.13.7"
  }
 },
 "nbformat": 4,
 "nbformat_minor": 5
}
