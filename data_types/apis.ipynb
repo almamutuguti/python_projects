{
 "cells": [
  {
   "cell_type": "code",
   "execution_count": 23,
   "id": "6d263951",
   "metadata": {},
   "outputs": [
    {
     "name": "stdout",
     "output_type": "stream",
     "text": [
      "Failed to retrieve page: 62 Status Code: 403\n",
      "All repos have been saved to the repos.csv\n"
     ]
    }
   ],
   "source": [
    "import requests\n",
    "from decouple import config\n",
    "import csv\n",
    "\n",
    "csv_file = \"repos.csv\"\n",
    "username = \"ezekielkibiego\"\n",
    "token = config(\"GITHUB_ACCESS_TOKEN\")\n",
    "# print(token)\n",
    "headers = {\n",
    "    \"Authorization\" : f\"Token: {token}\"\n",
    "}\n",
    "\n",
    "with open(csv_file, mode=\"w\", encoding=\"utf-8\", newline=\"\") as file:\n",
    "    writer = csv.writer(file)\n",
    "    writer.writerow([\"Name\", \"Repo-URL\", \"Languages\"])\n",
    "\n",
    "    page = 1\n",
    "    while True:\n",
    "        url = f\"https://api.github.com/users/{username}/repos?{page}\"\n",
    "        response = requests.get(url, headers=headers)\n",
    "        if response.status_code == 200:\n",
    "        \n",
    "            repos = response.json()\n",
    "            for repo in repos:\n",
    "                name = repo.get(\"name\")\n",
    "                url = repo.get(\"url\")\n",
    "                languages = repo.get(\"language\")\n",
    "                # print(f\"Name: {name}\\nRepo-URL: {url}\\nLanguages: {languages}\")\n",
    "                # print(\"--------------------------------------------------------\")\n",
    "                writer.writerow([name, url, languages])\n",
    "            \n",
    "            page += 1\n",
    "        else:\n",
    "            print(f\"Failed to retrieve page: {page} Status Code: {response.status_code}\")\n",
    "            break\n",
    "\n",
    "       \n",
    "\n",
    "print(f\"All repos have been saved to the {csv_file}\")\n",
    "\n",
    "#https://github.com/ezekielkibiego?page=2&tab=repositories"
   ]
  }
 ],
 "metadata": {
  "kernelspec": {
   "display_name": "virtual",
   "language": "python",
   "name": "python3"
  },
  "language_info": {
   "codemirror_mode": {
    "name": "ipython",
    "version": 3
   },
   "file_extension": ".py",
   "mimetype": "text/x-python",
   "name": "python",
   "nbconvert_exporter": "python",
   "pygments_lexer": "ipython3",
   "version": "3.13.7"
  }
 },
 "nbformat": 4,
 "nbformat_minor": 5
}
