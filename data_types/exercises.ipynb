{
 "cells": [
  {
   "cell_type": "markdown",
   "id": "db448c64",
   "metadata": {},
   "source": [
    "### 1. Write a program that creates a list of numbers or words and then sorts the list in ascending or descending order using built-in functions like sorted or the sort method.\n",
    "\n"
   ]
  },
  {
   "cell_type": "code",
   "execution_count": 1,
   "id": "9bf2d3f3",
   "metadata": {},
   "outputs": [
    {
     "name": "stdout",
     "output_type": "stream",
     "text": [
      "['Apple', 'Boy', 'Cat', 'Dog', 'Egg', 'Fanta']\n",
      "['Fanta', 'Egg', 'Dog', 'Cat', 'Boy', 'Apple']\n"
     ]
    }
   ],
   "source": [
    "list = [\"Apple\", \"Boy\", \"Cat\", \"Dog\", \"Egg\", \"Fanta\"]\n",
    "\n",
    "def sort_in_ascending_order(list):\n",
    "    list.sort(reverse=False)\n",
    "    return list\n",
    "\n",
    "def sort_in_descending_order(list):\n",
    "    list.sort(reverse=True)\n",
    "    return list\n",
    "\n",
    "print(sort_in_ascending_order(list))\n",
    "print(sort_in_descending_order(list))"
   ]
  },
  {
   "cell_type": "markdown",
   "id": "2b86950a",
   "metadata": {},
   "source": [
    "### 2. Write a Python program to get the largest number from the following list: l1 = [43, 89, 67, 56, 12]"
   ]
  },
  {
   "cell_type": "code",
   "execution_count": null,
   "id": "8e23ed21",
   "metadata": {},
   "outputs": [
    {
     "data": {
      "text/plain": [
       "89"
      ]
     },
     "execution_count": 6,
     "metadata": {},
     "output_type": "execute_result"
    }
   ],
   "source": [
    "list1 = [43, 89, 67, 56, 12]\n",
    "\n",
    "def largest_number(list):\n",
    "    return max(list)\n",
    "\n",
    "print(largest_number(list1))\n"
   ]
  },
  {
   "cell_type": "markdown",
   "id": "64809c57",
   "metadata": {},
   "source": [
    "### 3. Write a Python program to sum all the items in this list: list1 = [10,20,30,40,50]"
   ]
  },
  {
   "cell_type": "code",
   "execution_count": 8,
   "id": "5f8c65c6",
   "metadata": {},
   "outputs": [
    {
     "name": "stdout",
     "output_type": "stream",
     "text": [
      "150\n"
     ]
    }
   ],
   "source": [
    "list2 = [10, 20, 30, 40, 50]\n",
    "\n",
    "def sum_of_numbers(list):\n",
    "    return sum(list)\n",
    "\n",
    "print(sum_of_numbers(list2))"
   ]
  },
  {
   "cell_type": "markdown",
   "id": "3023701d",
   "metadata": {},
   "source": [
    "### 4. Write a Python program to remove duplicates from the following list: list2 = [23, 45, 67, -10, 23, 50, -10]"
   ]
  },
  {
   "cell_type": "code",
   "execution_count": null,
   "id": "a4aebb3c",
   "metadata": {},
   "outputs": [
    {
     "name": "stdout",
     "output_type": "stream",
     "text": [
      "{67, 45, 50, -10, 23}\n"
     ]
    }
   ],
   "source": [
    "## use dict.fromkeys() - to maintain order\n",
    "## set() - more efficient if order is not needed\n",
    "\n",
    "list3 = [23, 45, 67, -10, 23, 50, -10]\n",
    "\n",
    "def remove_duplicates(list):\n",
    "    return set(list)\n",
    "\n",
    "print(remove_duplicates(list3))\n",
    "\n",
    "\n"
   ]
  },
  {
   "cell_type": "markdown",
   "id": "f40d87e9",
   "metadata": {},
   "source": [
    "### 5. Write a program that creates a list of numbers and then iterates through the list using a for loop, printing each element and its index."
   ]
  },
  {
   "cell_type": "code",
   "execution_count": 15,
   "id": "768f46f9",
   "metadata": {},
   "outputs": [
    {
     "name": "stdout",
     "output_type": "stream",
     "text": [
      "1: Apple\n",
      "2: Orange\n",
      "3: Banana\n",
      "4: Pineapple\n",
      "5: Grapes\n"
     ]
    }
   ],
   "source": [
    "list4 = [\"Apple\", \"Orange\", \"Banana\", \"Pineapple\", \"Grapes\"]\n",
    "\n",
    "for idx, item in enumerate(list4, start=1):\n",
    "    print(f\"{idx}: {item}\")\n"
   ]
  },
  {
   "cell_type": "markdown",
   "id": "eac75165",
   "metadata": {},
   "source": [
    "### 6. Create a tuple to store a student’s name, age, and grade. Print the entire tuple."
   ]
  },
  {
   "cell_type": "code",
   "execution_count": 16,
   "id": "db278a18",
   "metadata": {},
   "outputs": [
    {
     "name": "stdout",
     "output_type": "stream",
     "text": [
      "{'name': 'Alma Grace', 'age': 12, 'grade': 8}\n"
     ]
    }
   ],
   "source": [
    "student = ({\"name\": \"Alma Grace\", \"age\": 12, \"grade\": 8})\n",
    "\n",
    "print(student)\n",
    "\n"
   ]
  },
  {
   "cell_type": "markdown",
   "id": "928e5b52",
   "metadata": {},
   "source": [
    "### 7. Create a tuple to store mathematical operators (+, -, *, /) and write a program that allows users to choose an operator and perform basic calculations with two numbers."
   ]
  },
  {
   "cell_type": "code",
   "execution_count": 5,
   "id": "f37a8f4b",
   "metadata": {},
   "outputs": [
    {
     "name": "stdout",
     "output_type": "stream",
     "text": [
      "1.0\n"
     ]
    }
   ],
   "source": [
    "def calculate(num1, num2, chosen_operator):  # Add chosen_operator as an argument\n",
    "    if chosen_operator == \"+\":\n",
    "        return num1 + num2\n",
    "    elif chosen_operator == \"-\":\n",
    "        return num1 - num2\n",
    "    elif chosen_operator == \"*\":\n",
    "        return num1 * num2\n",
    "    elif chosen_operator == \"/\":\n",
    "        if num2 != 0:  # Add a check for division by zero\n",
    "            return num1 / num2\n",
    "        else:\n",
    "            return \"Error: Division by zero!\"\n",
    "    else:\n",
    "        return \"Invalid operator\"\n",
    "\n",
    "# Define the valid operators as a tuple (for user prompt)\n",
    "valid_operators = (\"+\", \"-\", \"*\", \"/\")  \n",
    "\n",
    "num1 = int(input(\"Enter the first number: \"))\n",
    "num2 = int(input(\"Enter the second number: \"))\n",
    "chosen_operator = input(f\"Choose an operator {valid_operators}: \") # Use valid_operators in prompt\n",
    "\n",
    "print(calculate(num1, num2, chosen_operator)) # Pass chosen_operator to the function\n"
   ]
  }
 ],
 "metadata": {
  "kernelspec": {
   "display_name": "virtual",
   "language": "python",
   "name": "python3"
  },
  "language_info": {
   "codemirror_mode": {
    "name": "ipython",
    "version": 3
   },
   "file_extension": ".py",
   "mimetype": "text/x-python",
   "name": "python",
   "nbconvert_exporter": "python",
   "pygments_lexer": "ipython3",
   "version": "3.13.7"
  }
 },
 "nbformat": 4,
 "nbformat_minor": 5
}
