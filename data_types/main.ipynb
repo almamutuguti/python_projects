{
 "cells": [
  {
   "cell_type": "code",
   "execution_count": null,
   "id": "2b4a7028",
   "metadata": {},
   "outputs": [
    {
     "name": "stdout",
     "output_type": "stream",
     "text": [
      "Hello World\n",
      "Hello World\n",
      "My name is Jane and i am 25 years old\n",
      "My name is Jane and i am 25 years old\n"
     ]
    }
   ],
   "source": [
    "print(\"Hello World\")\n",
    "\n",
    "message = \"Hello World\"\n",
    "print(message)\n",
    "\n",
    "name = \"Jane\"\n",
    "age = 25\n",
    "\n",
    "print(\"My name is \" + name + \" and i am \" + str(age) + \" years old\")\n",
    "print(f\"My name is {name} and i am {age} years old\")\n",
    "\n"
   ]
  },
  {
   "cell_type": "markdown",
   "id": "b047eadb",
   "metadata": {},
   "source": [
    "DATA TYPES"
   ]
  },
  {
   "cell_type": "markdown",
   "id": "738b8098",
   "metadata": {},
   "source": [
    "Data types define the type of value a variable can hold.\n",
    "\n",
    "1. strings\n",
    "2. numbers\n",
    "3. booleans\n",
    "4. lists\n",
    "5. tuples\n",
    "6. dictionaries\n",
    "7. sets\n",
    "8. none types"
   ]
  },
  {
   "cell_type": "markdown",
   "id": "4035a9a2",
   "metadata": {},
   "source": [
    "Strings"
   ]
  },
  {
   "cell_type": "code",
   "execution_count": null,
   "id": "cbf95c25",
   "metadata": {},
   "outputs": [
    {
     "name": "stdout",
     "output_type": "stream",
     "text": [
      "PYTHON  PROGRAMMING\n",
      "python  programming\n",
      "Python  programming\n",
      "Python  Programming\n",
      "python  PROGRAMMING\n"
     ]
    }
   ],
   "source": [
    "str1 = 'hello'\n",
    "str2 = 'world'\n",
    "str1 = ''''\n",
    "    This is a mutli-line string\n",
    "    This is a mutli-line string\n",
    "    This is a mutli-line string\n",
    "'''\n",
    "\n",
    "# print(type(str1))\n",
    "\n",
    "text = \"PYTHON  programming\"\n",
    "\n",
    "print(text.upper()) #changing the string to upper case\n",
    "\n",
    "print(text.lower()) # changing into lower case\n",
    "\n",
    "print(text.capitalize()) # making the first letter be a capital letter\n",
    "\n",
    "print(text.title()) # making the text be like a title whereby each word starts in caps\n",
    "\n",
    "print(text.swapcase()) # swaps the case whereby if the first word was in caps and the second word was in small letters, the vice versa happens\n",
    "\n",
    "\n",
    "\n",
    "\n"
   ]
  },
  {
   "cell_type": "code",
   "execution_count": null,
   "id": "dcd1da3c",
   "metadata": {},
   "outputs": [
    {
     "name": "stdout",
     "output_type": "stream",
     "text": [
      "6\n",
      "3\n"
     ]
    }
   ],
   "source": [
    "message = \"Hello World\"\n",
    "\n",
    "print(message.find(\"World\"))\n",
    "print(message.count(\"l\")) # 3 letter ls"
   ]
  },
  {
   "cell_type": "code",
   "execution_count": null,
   "id": "1bddd5b0",
   "metadata": {},
   "outputs": [
    {
     "name": "stdout",
     "output_type": "stream",
     "text": [
      "    hello    \n",
      "hello\n",
      "hello    \n",
      "    hello\n"
     ]
    }
   ],
   "source": [
    "data = \"    hello    \"\n",
    "print(data)\n",
    "print(data.strip())\n",
    "print(data.lstrip())\n",
    "print(data.rstrip())"
   ]
  },
  {
   "cell_type": "code",
   "execution_count": null,
   "id": "2fff7157",
   "metadata": {},
   "outputs": [
    {
     "name": "stdout",
     "output_type": "stream",
     "text": [
      "I like javascript\n",
      "I like python\n"
     ]
    }
   ],
   "source": [
    "text2 = \"I like javascript\"\n",
    "print(text2)\n",
    "print(text2.replace(\"javascript\", \"python\"))"
   ]
  },
  {
   "cell_type": "markdown",
   "id": "24399d3d",
   "metadata": {},
   "source": [
    "## Numbers"
   ]
  },
  {
   "cell_type": "markdown",
   "id": "568d52ce",
   "metadata": {},
   "source": [
    "Int"
   ]
  },
  {
   "cell_type": "code",
   "execution_count": null,
   "id": "71fc352f",
   "metadata": {},
   "outputs": [
    {
     "name": "stdout",
     "output_type": "stream",
     "text": [
      "10000000000000000000000000000000000000000000000000000000000000000000000000000000000000000000000000000\n",
      "13\n",
      "7\n",
      "3.3333333333333335\n",
      "30\n",
      "3\n",
      "1\n",
      "1000\n"
     ]
    }
   ],
   "source": [
    "# can be positive, negative or zero\n",
    "num1 = 20\n",
    "num2 = -25\n",
    "num3 = 10**100 #power\n",
    "print(num3)\n",
    "\n",
    "a = 10\n",
    "b = 3\n",
    "\n",
    "print(a + b)\n",
    "print(a - b)\n",
    "print(a / b)\n",
    "print(a * b)\n",
    "print(a // b)\n",
    "print(a % b)\n",
    "print(a ** b)\n",
    "\n"
   ]
  },
  {
   "cell_type": "markdown",
   "id": "faa36308",
   "metadata": {},
   "source": [
    "## Floats"
   ]
  },
  {
   "cell_type": "code",
   "execution_count": null,
   "id": "aa567601",
   "metadata": {},
   "outputs": [
    {
     "name": "stdout",
     "output_type": "stream",
     "text": [
      "1200.0\n",
      "<class 'float'>\n",
      "0.8\n",
      "0.30000000000000004\n",
      "0.3\n"
     ]
    }
   ],
   "source": [
    "pi = 3.31415\n",
    "val = -2.5\n",
    "sci = 1.2e3\n",
    "\n",
    "print(sci)\n",
    "print(type(pi))\n",
    "\n",
    "print(0.3 + 0.5)\n",
    "print(0.1 + 0.2)\n",
    "from decimal import Decimal\n",
    "print(Decimal(\"0.1\") + Decimal(\"0.2\"))\n",
    "\n",
    "\n"
   ]
  },
  {
   "cell_type": "code",
   "execution_count": null,
   "id": "7c9f274d",
   "metadata": {},
   "outputs": [
    {
     "name": "stdout",
     "output_type": "stream",
     "text": [
      "2\n",
      "9\n",
      "8\n",
      "(3, 1)\n"
     ]
    }
   ],
   "source": [
    "print(int(2.6))\n",
    "print(abs(-9))\n",
    "print(pow(2, 3))\n",
    "print(divmod(10, 3)) # 10 is a dividend and 3 is the divisor"
   ]
  },
  {
   "cell_type": "code",
   "execution_count": null,
   "id": "c4f1046d",
   "metadata": {},
   "outputs": [
    {
     "name": "stdout",
     "output_type": "stream",
     "text": [
      "8.0\n",
      "120\n",
      "12\n",
      "2.0\n"
     ]
    }
   ],
   "source": [
    "import math\n",
    "\n",
    "print(math.sqrt(64))\n",
    "print(math.factorial(5)) # mutliplication of values from 1 to number 5\n",
    "print(math.gcd(24, 36))\n",
    "print(math.log(100, 10))\n"
   ]
  },
  {
   "cell_type": "markdown",
   "id": "3e5c0b71",
   "metadata": {},
   "source": [
    "## Booleans"
   ]
  },
  {
   "cell_type": "code",
   "execution_count": null,
   "id": "6ca474a6",
   "metadata": {},
   "outputs": [
    {
     "name": "stdout",
     "output_type": "stream",
     "text": [
      "False\n",
      "True\n",
      "True\n",
      "2\n",
      "True\n",
      "10\n",
      "0\n",
      "11\n"
     ]
    }
   ],
   "source": [
    "print(3 > 5)\n",
    "print(3 < 5)\n",
    "print(True == 1)\n",
    "print(True + True)\n",
    "print(False == 0)\n",
    "print(False + 10)\n",
    "print(False + False)\n",
    "print(True + 10)\n",
    "# print(True == 1)"
   ]
  },
  {
   "cell_type": "markdown",
   "id": "878aefab",
   "metadata": {},
   "source": [
    "Falsy values:\n",
    "\n",
    "1. 0(numeric zero: 0, 0.0, oj)\n",
    "2. (\"\")empty string\n",
    "3. []empty list\n",
    "4. ()empty tuple\n",
    "5. {}empty dict\n",
    "6. set() empty set\n",
    "7. none"
   ]
  },
  {
   "cell_type": "markdown",
   "id": "72eba5af",
   "metadata": {},
   "source": [
    "## List"
   ]
  },
  {
   "cell_type": "code",
   "execution_count": null,
   "id": "9a8be61b",
   "metadata": {},
   "outputs": [
    {
     "name": "stdout",
     "output_type": "stream",
     "text": [
      "['mango', 'lemon', 'orange']\n",
      "orange\n",
      "<class 'list'>\n"
     ]
    }
   ],
   "source": [
    "fruits = [\"mango\", \"lemon\", \"orange\"]\n",
    "print(fruits)\n",
    "\n",
    "fruits.append(\"banana\")\n",
    "print(fruits[2])\n",
    "print(type(fruits))"
   ]
  },
  {
   "cell_type": "markdown",
   "id": "eb1afec4",
   "metadata": {},
   "source": [
    "## Tuples"
   ]
  },
  {
   "cell_type": "code",
   "execution_count": null,
   "id": "9c8cedb0",
   "metadata": {},
   "outputs": [
    {
     "name": "stdout",
     "output_type": "stream",
     "text": [
      "(20, 30)\n",
      "<class 'tuple'>\n"
     ]
    }
   ],
   "source": [
    "coordinates = (20, 30)\n",
    "print(coordinates)\n",
    "print(type(coordinates))\n"
   ]
  },
  {
   "cell_type": "markdown",
   "id": "c300dfd5",
   "metadata": {},
   "source": [
    "## Range - a sequence of numbers"
   ]
  },
  {
   "cell_type": "code",
   "execution_count": null,
   "id": "51ed85d2",
   "metadata": {},
   "outputs": [
    {
     "name": "stdout",
     "output_type": "stream",
     "text": [
      "[0, 1, 2, 3, 4, 5, 6, 7, 8, 9]\n"
     ]
    }
   ],
   "source": [
    "numbers = range(10)\n",
    "print(list(numbers))"
   ]
  },
  {
   "cell_type": "markdown",
   "id": "66aed21e",
   "metadata": {},
   "source": [
    "## Sets"
   ]
  },
  {
   "cell_type": "code",
   "execution_count": null,
   "id": "28215e3b",
   "metadata": {},
   "outputs": [
    {
     "name": "stdout",
     "output_type": "stream",
     "text": [
      "{'red', 'blue', 'green'}\n",
      "{'red', 'purple', 'blue', 'green'}\n"
     ]
    }
   ],
   "source": [
    "colors = {\"blue\", \"red\", \"green\", \"blue\"}\n",
    "print(colors)\n",
    "colors.add(\"purple\")\n",
    "print(colors)"
   ]
  },
  {
   "cell_type": "markdown",
   "id": "d7d268b6",
   "metadata": {},
   "source": [
    "## Dictionaries"
   ]
  },
  {
   "cell_type": "code",
   "execution_count": null,
   "id": "683a4670",
   "metadata": {},
   "outputs": [
    {
     "name": "stdout",
     "output_type": "stream",
     "text": [
      "{'name': 'Alice', 'age': 20}\n",
      "Alice\n",
      "<class 'dict'>\n"
     ]
    }
   ],
   "source": [
    "student = {\"name\": \"Alice\", \"age\": 20}\n",
    "print(student)\n",
    "print(student[\"name\"])\n",
    "print(type(student))\n"
   ]
  },
  {
   "cell_type": "markdown",
   "id": "e420de1b",
   "metadata": {},
   "source": [
    "## None"
   ]
  },
  {
   "cell_type": "code",
   "execution_count": null,
   "id": "da017a5c",
   "metadata": {},
   "outputs": [
    {
     "name": "stdout",
     "output_type": "stream",
     "text": [
      "<class 'NoneType'>\n",
      "<class 'int'>\n"
     ]
    }
   ],
   "source": [
    "b = None\n",
    "print(type(b))\n",
    "b = 3\n",
    "print(type(b))"
   ]
  },
  {
   "cell_type": "markdown",
   "id": "eb3b98de",
   "metadata": {},
   "source": [
    "## Conditional Statements"
   ]
  },
  {
   "cell_type": "code",
   "execution_count": null,
   "id": "fd86f805",
   "metadata": {},
   "outputs": [
    {
     "name": "stdout",
     "output_type": "stream",
     "text": [
      "You are an adult\n",
      "Even\n"
     ]
    }
   ],
   "source": [
    "age = 18\n",
    "\n",
    "if age >= 18:\n",
    "    print(\"You are an adult\")\n",
    "else:\n",
    "    print(\"You are a minor\")\n",
    "\n",
    "num = 8\n",
    "\n",
    "if num % 2 == 0:\n",
    "    print(\"Even\")\n",
    "else:\n",
    "    print(\"odd\")\n",
    "\n",
    "    "
   ]
  },
  {
   "cell_type": "code",
   "execution_count": null,
   "id": "c0b8ff7a",
   "metadata": {},
   "outputs": [
    {
     "name": "stdout",
     "output_type": "stream",
     "text": [
      "F\n"
     ]
    }
   ],
   "source": [
    "score = int(input(\"Enter your score: \"))\n",
    "\n",
    "if score >= 90:\n",
    "    print(\"A\")\n",
    "elif score >= 80:\n",
    "    print(\"B\")\n",
    "elif score >= 70:\n",
    "    print(\"C\")\n",
    "else:\n",
    "    print(\"F\")\n"
   ]
  },
  {
   "cell_type": "code",
   "execution_count": null,
   "id": "d4ee1e83",
   "metadata": {},
   "outputs": [
    {
     "name": "stdout",
     "output_type": "stream",
     "text": [
      "Positive Odd\n"
     ]
    }
   ],
   "source": [
    "x = 7\n",
    "\n",
    "if x > 0:\n",
    "    if x % 2 == 0:\n",
    "        print(\"Positive Even\")\n",
    "    else:\n",
    "        print(\"Positive Odd\")\n",
    "else:\n",
    "    print(\"Negative Number \")"
   ]
  },
  {
   "cell_type": "code",
   "execution_count": null,
   "id": "426da271",
   "metadata": {},
   "outputs": [
    {
     "name": "stdout",
     "output_type": "stream",
     "text": [
      "Invalid operator\n"
     ]
    }
   ],
   "source": [
    "num1 = int(input(\"Enter the first number: \"))\n",
    "num2 = int(input(\"Enter the second number\"))\n",
    "operator = input(\"Choose an operator (+, -, /, *)\")\n",
    "\n",
    "if operator == \"+\":\n",
    "    print(num1 + num2)\n",
    "elif operator == \"-\":\n",
    "    print(num1 - num2)\n",
    "elif operator == \"*\":\n",
    "    print(num1 * num2)\n",
    "elif operator == \"/\":\n",
    "    print(num1 / num2)\n",
    "else:\n",
    "    print(\"Invalid operator\")\n",
    "\n",
    "\n",
    "\n"
   ]
  },
  {
   "cell_type": "markdown",
   "id": "3005a0e9",
   "metadata": {},
   "source": [
    "## Loops"
   ]
  },
  {
   "cell_type": "code",
   "execution_count": null,
   "id": "bad96da4",
   "metadata": {},
   "outputs": [
    {
     "name": "stdout",
     "output_type": "stream",
     "text": [
      "Hi Victor, welcome to the team!\n",
      "Hi Britney, welcome to the team!\n",
      "Hi Alma, welcome to the team!\n",
      "Hi Brian, welcome to the team!\n",
      "Hi Sharline, welcome to the team!\n",
      "0\n",
      "1\n",
      "2\n",
      "3\n",
      "4\n",
      "0\n",
      "1\n",
      "2\n",
      "3\n",
      "4\n",
      "5\n",
      "6\n",
      "7\n",
      "8\n",
      "9\n",
      "10\n",
      "9\n",
      "8\n",
      "7\n",
      "6\n",
      "5\n",
      "4\n",
      "3\n",
      "2\n",
      "1\n"
     ]
    }
   ],
   "source": [
    "## For Loop\n",
    "for name in [\"Victor\", \"Britney\", \"Alma\", \"Brian\", \"Sharline\"]:\n",
    "    print(f\"Hi {name}, welcome to the team!\") ## Goes through each name in the list and prints a welcome message\n",
    "\n",
    "for i in range(5):\n",
    "    print(i) ## prints numbers from 0 to 4\n",
    "\n",
    "for i in range(10):\n",
    "    print(i) ## prints numbers from 0 to 9\n",
    "\n",
    "\n",
    "\n"
   ]
  },
  {
   "cell_type": "code",
   "execution_count": null,
   "id": "2ee0a007",
   "metadata": {},
   "outputs": [
    {
     "name": "stdout",
     "output_type": "stream",
     "text": [
      "10\n",
      "9\n",
      "8\n",
      "7\n",
      "6\n",
      "5\n",
      "4\n",
      "3\n",
      "2\n",
      "1\n"
     ]
    }
   ],
   "source": [
    "#reverse\n",
    "for i in range(10, 0, -1): ## starts from 10, ends at 1, decrementing by 1\n",
    "    print(i) "
   ]
  },
  {
   "cell_type": "code",
   "execution_count": null,
   "id": "c70e0f40",
   "metadata": {},
   "outputs": [
    {
     "name": "stdout",
     "output_type": "stream",
     "text": [
      "1: Victor\n",
      "2: Britney\n",
      "3: Alma\n",
      "4: Brian\n",
      "5: Sharline\n"
     ]
    }
   ],
   "source": [
    "names = [\"Victor\", \"Britney\", \"Alma\", \"Brian\", \"Sharline\"]\n",
    "\n",
    "for idx, name in enumerate(names, start = 1):\n",
    "    print(f\"{idx}: {name}\") ## prints index and name from the list"
   ]
  },
  {
   "cell_type": "code",
   "execution_count": null,
   "id": "53b74503",
   "metadata": {},
   "outputs": [
    {
     "name": "stdout",
     "output_type": "stream",
     "text": [
      "Victor scored 92\n",
      "Britney scored 70\n",
      "Alma scored 70\n",
      "Brian scored 17\n",
      "Sharline scored 99\n"
     ]
    }
   ],
   "source": [
    "## zip method\n",
    "names = [\"Victor\", \"Britney\", \"Alma\", \"Brian\", \"Sharline\"]\n",
    "scores = [92, 70, 70, 17, 99]\n",
    "\n",
    "for name, score in zip(names, scores):\n",
    "    print(f\"{name} scored {score}\")\n",
    "\n"
   ]
  },
  {
   "cell_type": "code",
   "execution_count": null,
   "id": "b7ec3be0",
   "metadata": {},
   "outputs": [
    {
     "name": "stdout",
     "output_type": "stream",
     "text": [
      "name\n",
      "email\n",
      "active\n",
      "name => Jacob\n",
      "email => jacob@gmail.com\n",
      "active => True\n"
     ]
    }
   ],
   "source": [
    "## looping through a dictionary\n",
    "\n",
    "user = {\"name\": \"Jacob\", \"email\": \"jacob@gmail.com\", \"active\": True}\n",
    "\n",
    "for key in user:\n",
    "    print(key)\n",
    "\n",
    "\n",
    "for key, val in user.items():\n",
    "    print(f\"{key} => {val}\")\n",
    "    \n",
    "\n",
    "\n",
    "\n"
   ]
  },
  {
   "cell_type": "code",
   "execution_count": null,
   "id": "02999d90",
   "metadata": {},
   "outputs": [
    {
     "name": "stdout",
     "output_type": "stream",
     "text": [
      "0\n",
      "2\n",
      "4\n",
      "6\n",
      "8\n"
     ]
    }
   ],
   "source": [
    "## using a for loop to print even numbers within a range\n",
    "\n",
    "for num in range(10):\n",
    "    if num % 2 == 0:\n",
    "        print(num)"
   ]
  },
  {
   "cell_type": "markdown",
   "id": "993375e0",
   "metadata": {},
   "source": [
    "## While Loops\n"
   ]
  },
  {
   "cell_type": "code",
   "execution_count": null,
   "id": "ce62cced",
   "metadata": {},
   "outputs": [
    {
     "name": "stdout",
     "output_type": "stream",
     "text": [
      "5\n",
      "4\n",
      "3\n",
      "2\n",
      "1\n"
     ]
    }
   ],
   "source": [
    "count = 5\n",
    "\n",
    "while count > 0 :\n",
    "    print (count)\n",
    "    count -= 1\n",
    "\n",
    "## just like for js\n",
    "\n"
   ]
  },
  {
   "cell_type": "code",
   "execution_count": null,
   "id": "a2772a4d",
   "metadata": {},
   "outputs": [
    {
     "name": "stdout",
     "output_type": "stream",
     "text": [
      "1\n",
      "2\n",
      "3\n",
      "4\n",
      "5\n"
     ]
    }
   ],
   "source": [
    "count = 1\n",
    "while count <= 5:\n",
    "    print(count)\n",
    "    count += 1\n",
    "    ## count starts from 1 and goes to 5"
   ]
  },
  {
   "cell_type": "code",
   "execution_count": 24,
   "id": "b9cd6182",
   "metadata": {},
   "outputs": [],
   "source": [
    "## input with an exit condition\n",
    "\n",
    "while True:\n",
    "    cmd = input(\"Enter a command (type 'exit' to quit): \").strip()\n",
    "\n",
    "    if cmd.lower() == \"exit\":\n",
    "        break\n",
    "    print()\n",
    "\n",
    "\n",
    "\n"
   ]
  },
  {
   "cell_type": "code",
   "execution_count": 26,
   "id": "65f1c8fb",
   "metadata": {},
   "outputs": [
    {
     "name": "stdout",
     "output_type": "stream",
     "text": [
      "0\n",
      "7\n",
      "14\n",
      "21\n",
      "28\n",
      "35\n",
      "42\n",
      "49\n",
      "56\n",
      "63\n",
      "70\n",
      "77\n",
      "84\n",
      "91\n",
      "98\n"
     ]
    }
   ],
   "source": [
    "# print multiples of 7 upto 100\n",
    "\n",
    "count = 0\n",
    "\n",
    "while count <= 100 :\n",
    "    if count % 7 == 0:\n",
    "        print(count)\n",
    "    count += 1\n",
    "    \n"
   ]
  },
  {
   "cell_type": "code",
   "execution_count": null,
   "id": "78317967",
   "metadata": {},
   "outputs": [
    {
     "name": "stdout",
     "output_type": "stream",
     "text": [
      "{'name': 'laptop', 'price': 85000}\n",
      "{'name': 'phone', 'price': 150000}\n",
      "{'name': 'ipad', 'price': 70000}\n"
     ]
    }
   ],
   "source": [
    "# print 3 most expensive product from a dict\n",
    "\n",
    "products = [\n",
    "    {\"name\": \"laptop\", \"price\": 85000},\n",
    "    {\"name\": \"phone\", \"price\": 150000},\n",
    "    {\"name\": \"ipad\", \"price\": 70000},\n",
    "    {\"name\": \"stanley cup\", \"price\": 1000},\n",
    "    {\"name\": \"mirror\", \"price\": 500},\n",
    "    {\"name\": \"lipgloss\", \"price\": 300}\n",
    "]\n",
    "\n",
    "for product in products:\n",
    "    if product[\"price\"] > 1000:\n",
    "        print(product)\n",
    "\n",
    "\n",
    "\n"
   ]
  },
  {
   "cell_type": "markdown",
   "id": "f4f60b4f",
   "metadata": {},
   "source": [
    "## Functions"
   ]
  },
  {
   "cell_type": "code",
   "execution_count": 39,
   "id": "875a435f",
   "metadata": {},
   "outputs": [
    {
     "name": "stdout",
     "output_type": "stream",
     "text": [
      "Hello Alma how are you?\n"
     ]
    }
   ],
   "source": [
    "def greet(name):\n",
    "    \n",
    "    print(f\"Hello {name} how are you?\")\n",
    "\n",
    "greet(\"Alma\")"
   ]
  },
  {
   "cell_type": "code",
   "execution_count": 41,
   "id": "f2d48049",
   "metadata": {},
   "outputs": [
    {
     "data": {
      "text/plain": [
       "12"
      ]
     },
     "execution_count": 41,
     "metadata": {},
     "output_type": "execute_result"
    }
   ],
   "source": [
    "def sum_of_numbers(num1, num2):\n",
    "    return num1 + num2\n",
    "\n",
    "sum_of_numbers(5, 7)\n"
   ]
  },
  {
   "cell_type": "code",
   "execution_count": 45,
   "id": "7805f75f",
   "metadata": {},
   "outputs": [
    {
     "name": "stdout",
     "output_type": "stream",
     "text": [
      "Hello Alma how are you?\n",
      "Hello Guest how are you?\n"
     ]
    }
   ],
   "source": [
    "def greet(name = \"Guest\"):\n",
    "    \n",
    "    print(f\"Hello {name} how are you?\")\n",
    "\n",
    "greet(\"Alma\")\n",
    "greet()"
   ]
  },
  {
   "cell_type": "code",
   "execution_count": 47,
   "id": "f67e46bc",
   "metadata": {},
   "outputs": [
    {
     "name": "stdout",
     "output_type": "stream",
     "text": [
      "20\n"
     ]
    }
   ],
   "source": [
    "# lambda function\n",
    "multiply = lambda a, b : a * b\n",
    "print(multiply(10, 2))\n"
   ]
  },
  {
   "cell_type": "code",
   "execution_count": null,
   "id": "f1704af8",
   "metadata": {},
   "outputs": [
    {
     "name": "stdout",
     "output_type": "stream",
     "text": [
      "120\n"
     ]
    }
   ],
   "source": [
    "# recursive function - function that calls itself - works in tree traversal, fibonacci sequence\n",
    "\n",
    "#factorial = multiply from that number backwards\n",
    "\n",
    "def factorial(n):\n",
    "    if n == 0:\n",
    "        return 1\n",
    "    return n * factorial(n -1)\n",
    "\n",
    "print(factorial(5))\n",
    "\n"
   ]
  },
  {
   "cell_type": "code",
   "execution_count": 56,
   "id": "f7da8038",
   "metadata": {},
   "outputs": [
    {
     "name": "stdout",
     "output_type": "stream",
     "text": [
      "10 is a positive number\n"
     ]
    }
   ],
   "source": [
    "# Create a function that will determine whether a number is positive or negative.\n",
    "\n",
    "def my_value_checker(num):\n",
    "    if num > 0:\n",
    "        return f\"{num} is a positive number\"\n",
    "    else:\n",
    "        return f\"{num} is a negative number\"\n",
    "\n",
    "num = int(input(\"Enter a number to determine whether it is positive or negative\"))\n",
    "print(my_value_checker(num))\n",
    "\n"
   ]
  },
  {
   "cell_type": "markdown",
   "id": "2459ed2c",
   "metadata": {},
   "source": [
    "## List methods"
   ]
  },
  {
   "cell_type": "code",
   "execution_count": 58,
   "id": "8892ba06",
   "metadata": {},
   "outputs": [
    {
     "name": "stdout",
     "output_type": "stream",
     "text": [
      "[]\n"
     ]
    }
   ],
   "source": [
    "my_list = []\n",
    "print(my_list)"
   ]
  },
  {
   "cell_type": "code",
   "execution_count": 59,
   "id": "ebd64b97",
   "metadata": {},
   "outputs": [
    {
     "name": "stdout",
     "output_type": "stream",
     "text": [
      "[3, 4, 5, 6]\n"
     ]
    }
   ],
   "source": [
    "my_list = [3, 4, 5, 6]\n",
    "print(my_list)"
   ]
  },
  {
   "cell_type": "code",
   "execution_count": 60,
   "id": "e1e828fe",
   "metadata": {},
   "outputs": [
    {
     "name": "stdout",
     "output_type": "stream",
     "text": [
      "['Victor', 'Britney', 'Alma', 'Brian', 'Sharline']\n"
     ]
    }
   ],
   "source": [
    "names = [\"Victor\", \"Britney\", \"Alma\", \"Brian\", \"Sharline\"]\n",
    "print(names)"
   ]
  },
  {
   "cell_type": "code",
   "execution_count": 62,
   "id": "d84657b3",
   "metadata": {},
   "outputs": [
    {
     "name": "stdout",
     "output_type": "stream",
     "text": [
      "['Victor', 'Britney', 'Alma', 'Brian', 'Sharline', 1, 2, True]\n"
     ]
    }
   ],
   "source": [
    "mixed_list = [\"Victor\", \"Britney\", \"Alma\", \"Brian\", \"Sharline\", 1, 2, True]\n",
    "print(mixed_list)"
   ]
  },
  {
   "cell_type": "code",
   "execution_count": 63,
   "id": "a579c131",
   "metadata": {},
   "outputs": [
    {
     "name": "stdout",
     "output_type": "stream",
     "text": [
      "[[3, 4], [5, 6]]\n"
     ]
    }
   ],
   "source": [
    "my_list = [[3, 4], [5, 6]]\n",
    "print(my_list)"
   ]
  },
  {
   "cell_type": "code",
   "execution_count": 75,
   "id": "1a5c310f",
   "metadata": {},
   "outputs": [
    {
     "name": "stdout",
     "output_type": "stream",
     "text": [
      "Victor\n",
      "Britney\n",
      "Alma\n",
      "Brian\n",
      "Sharline\n",
      "['Maina', 'Britney', 'Alma', 'Brian', 'Sharline']\n",
      "5\n",
      "True\n",
      "['Maina', 'Britney', 'Alma', 'Brian', 'Sharline', 'Mike', 'Neville', 'Stanley']\n"
     ]
    }
   ],
   "source": [
    "all_students = [\"Victor\", \"Britney\", \"Alma\", \"Brian\", \"Sharline\"]\n",
    "print(all_students[0])\n",
    "print(all_students[1])\n",
    "print(all_students[2])\n",
    "print(all_students[3])\n",
    "print(all_students[4])\n",
    "\n",
    "\n",
    "# update an element\n",
    "all_students[0] = \"Maina\"\n",
    "print(all_students)\n",
    "\n",
    "# length of the list\n",
    "print(len(all_students))\n",
    "\n",
    "# check items\n",
    "print(\"Brian\" in all_students)\n",
    "\n",
    "#added items\n",
    "print(all_students + [\"Mike\", \"Neville\", \"Stanley\"])"
   ]
  },
  {
   "cell_type": "code",
   "execution_count": 76,
   "id": "db89d9aa",
   "metadata": {},
   "outputs": [
    {
     "name": "stdout",
     "output_type": "stream",
     "text": [
      "[3, 4, 5, 6, 3, 4, 5, 6]\n"
     ]
    }
   ],
   "source": [
    "my_list = [3, 4, 5, 6]\n",
    "print(my_list * 2)"
   ]
  },
  {
   "cell_type": "code",
   "execution_count": 85,
   "id": "3066315c",
   "metadata": {},
   "outputs": [
    {
     "name": "stdout",
     "output_type": "stream",
     "text": [
      "['Victor', 'Britney', 'Alma', 'Brian', 'Sharline']\n",
      "['Victor', 'Britney', 'Alma', 'Brian', 'Sharline', 'Mike']\n",
      "['Victor', 'Britney', 'Alma', 'Brian', 'Sharline', 'Nev', 'Mike']\n"
     ]
    }
   ],
   "source": [
    "all_students = [\"Victor\", \"Britney\", \"Alma\", \"Brian\", \"Sharline\"]\n",
    "\n",
    "print(all_students)\n",
    "\n",
    "# add item\n",
    "all_students.append(\"Mike\")\n",
    "print(all_students)\n",
    "\n",
    "# add at a specific index\n",
    "all_students.insert(5, \"Nev\")\n",
    "print(all_students)\n",
    "\n"
   ]
  },
  {
   "cell_type": "code",
   "execution_count": 96,
   "id": "447da2d5",
   "metadata": {},
   "outputs": [
    {
     "name": "stdout",
     "output_type": "stream",
     "text": [
      "['Victor', 'Britney', 'Alma', 'Brian', 'Sharline', 'Seth', 'Nev', 'Mike', 'Stanley']\n",
      "['Victor', 'Britney', 'Alma', 'Brian', 'Sharline', 'Seth', 'Nev', 'Mike']\n",
      "['Victor', 'Britney', 'Alma', 'Brian', 'Sharline', 'Seth', 'Nev']\n",
      "[]\n"
     ]
    }
   ],
   "source": [
    "# add a number of items at the same time\n",
    "all_students = [\"Victor\", \"Britney\", \"Alma\", \"Brian\", \"Sharline\", \"Seth\"]\n",
    "all_students.extend([\"Nev\", \"Mike\", \"Stanley\"])\n",
    "print(all_students)\n",
    "\n",
    "# remove a specific item\n",
    "all_students.remove(\"Stanley\")\n",
    "print(all_students)\n",
    "\n",
    "# removes the last name\n",
    "all_students.pop()\n",
    "print(all_students)\n",
    "\n",
    "#clears the list\n",
    "all_students.clear()\n",
    "print(all_students)\n"
   ]
  },
  {
   "cell_type": "code",
   "execution_count": 100,
   "id": "bfaca24c",
   "metadata": {},
   "outputs": [
    {
     "name": "stdout",
     "output_type": "stream",
     "text": [
      "<class 'tuple'>\n",
      "Sharline\n",
      "Victor\n"
     ]
    }
   ],
   "source": [
    "my_tuple = (\"Victor\", \"Britney\", \"Alma\", \"Brian\", \"Sharline\")\n",
    "print(type(my_tuple))\n",
    "print(my_tuple[-1])\n",
    "print(my_tuple[0])"
   ]
  },
  {
   "cell_type": "code",
   "execution_count": 117,
   "id": "1414bb51",
   "metadata": {},
   "outputs": [
    {
     "name": "stdout",
     "output_type": "stream",
     "text": [
      "['Apple', 'Boy', 'Cat', 'Dog', 'Egg', 'Fanta']\n",
      "['Fanta', 'Egg', 'Dog', 'Cat', 'Boy', 'Apple']\n"
     ]
    }
   ],
   "source": [
    "# Write a program that creates a list of numbers or words and then sorts the list in ascending or descending \n",
    "# order using built-in functions like sorted or the sort method.\n",
    "\n",
    "list = [\"Apple\", \"Boy\", \"Cat\", \"Dog\", \"Egg\", \"Fanta\"]\n",
    "\n",
    "def sort_in_ascending_order(list):\n",
    "    list.sort(reverse=False)\n",
    "    return list\n",
    "\n",
    "def sort_in_descending_order(list):\n",
    "    list.sort(reverse=True)\n",
    "    return list\n",
    "\n",
    "print(sort_in_ascending_order(list))\n",
    "print(sort_in_descending_order(list))\n"
   ]
  }
 ],
 "metadata": {
  "kernelspec": {
   "display_name": "virtual",
   "language": "python",
   "name": "python3"
  },
  "language_info": {
   "codemirror_mode": {
    "name": "ipython",
    "version": 3
   },
   "file_extension": ".py",
   "mimetype": "text/x-python",
   "name": "python",
   "nbconvert_exporter": "python",
   "pygments_lexer": "ipython3",
   "version": "3.13.7"
  }
 },
 "nbformat": 4,
 "nbformat_minor": 5
}
