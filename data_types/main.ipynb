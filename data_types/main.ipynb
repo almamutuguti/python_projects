{
 "cells": [
  {
   "cell_type": "code",
   "execution_count": 21,
   "id": "2b4a7028",
   "metadata": {},
   "outputs": [
    {
     "name": "stdout",
     "output_type": "stream",
     "text": [
      "Hello World\n",
      "Hello World\n",
      "My name is Jane and i am 25 years old\n",
      "My name is Jane and i am 25 years old\n"
     ]
    }
   ],
   "source": [
    "print(\"Hello World\")\n",
    "\n",
    "message = \"Hello World\"\n",
    "print(message)\n",
    "\n",
    "name = \"Jane\"\n",
    "age = 25\n",
    "\n",
    "print(\"My name is \" + name + \" and i am \" + str(age) + \" years old\")\n",
    "print(f\"My name is {name} and i am {age} years old\")\n",
    "\n"
   ]
  },
  {
   "cell_type": "markdown",
   "id": "b047eadb",
   "metadata": {},
   "source": [
    "DATA TYPES"
   ]
  },
  {
   "cell_type": "markdown",
   "id": "738b8098",
   "metadata": {},
   "source": [
    "Data types define the type of value a variable can hold.\n",
    "\n",
    "1. strings\n",
    "2. numbers\n",
    "3. booleans\n",
    "4. lists\n",
    "5. tuples\n",
    "6. dictionaries\n",
    "7. sets\n",
    "8. none types"
   ]
  },
  {
   "cell_type": "markdown",
   "id": "4035a9a2",
   "metadata": {},
   "source": [
    "Strings"
   ]
  },
  {
   "cell_type": "code",
   "execution_count": null,
   "id": "cbf95c25",
   "metadata": {},
   "outputs": [
    {
     "name": "stdout",
     "output_type": "stream",
     "text": [
      "PYTHON  PROGRAMMING\n",
      "python  programming\n",
      "Python  programming\n",
      "Python  Programming\n",
      "python  PROGRAMMING\n"
     ]
    }
   ],
   "source": [
    "str1 = 'hello'\n",
    "str2 = 'world'\n",
    "str1 = ''''\n",
    "    This is a mutli-line string\n",
    "    This is a mutli-line string\n",
    "    This is a mutli-line string\n",
    "'''\n",
    "\n",
    "# print(type(str1))\n",
    "\n",
    "text = \"PYTHON  programming\"\n",
    "\n",
    "print(text.upper()) #changing the string to upper case\n",
    "\n",
    "print(text.lower()) # changing into lower case\n",
    "\n",
    "print(text.capitalize()) # making the first letter be a capital letter\n",
    "\n",
    "print(text.title()) # making the text be like a title whereby each word starts in caps\n",
    "\n",
    "print(text.swapcase()) # swaps the case whereby if the first word was in caps and the second word was in small letters, the vice versa happens\n",
    "\n",
    "\n",
    "\n",
    "\n"
   ]
  },
  {
   "cell_type": "code",
   "execution_count": null,
   "id": "dcd1da3c",
   "metadata": {},
   "outputs": [
    {
     "name": "stdout",
     "output_type": "stream",
     "text": [
      "6\n",
      "3\n"
     ]
    }
   ],
   "source": [
    "message = \"Hello World\"\n",
    "\n",
    "print(message.find(\"World\"))\n",
    "print(message.count(\"l\")) # 3 letter ls"
   ]
  },
  {
   "cell_type": "code",
   "execution_count": 18,
   "id": "1bddd5b0",
   "metadata": {},
   "outputs": [
    {
     "name": "stdout",
     "output_type": "stream",
     "text": [
      "    hello    \n",
      "hello\n",
      "hello    \n",
      "    hello\n"
     ]
    }
   ],
   "source": [
    "data = \"    hello    \"\n",
    "print(data)\n",
    "print(data.strip())\n",
    "print(data.lstrip())\n",
    "print(data.rstrip())"
   ]
  },
  {
   "cell_type": "code",
   "execution_count": 20,
   "id": "2fff7157",
   "metadata": {},
   "outputs": [
    {
     "name": "stdout",
     "output_type": "stream",
     "text": [
      "I like javascript\n",
      "I like python\n"
     ]
    }
   ],
   "source": [
    "text2 = \"I like javascript\"\n",
    "print(text2)\n",
    "print(text2.replace(\"javascript\", \"python\"))"
   ]
  },
  {
   "cell_type": "markdown",
   "id": "24399d3d",
   "metadata": {},
   "source": [
    "## Numbers"
   ]
  },
  {
   "cell_type": "markdown",
   "id": "568d52ce",
   "metadata": {},
   "source": [
    "Int"
   ]
  },
  {
   "cell_type": "code",
   "execution_count": 26,
   "id": "71fc352f",
   "metadata": {},
   "outputs": [
    {
     "name": "stdout",
     "output_type": "stream",
     "text": [
      "10000000000000000000000000000000000000000000000000000000000000000000000000000000000000000000000000000\n",
      "13\n",
      "7\n",
      "3.3333333333333335\n",
      "30\n",
      "3\n",
      "1\n",
      "1000\n"
     ]
    }
   ],
   "source": [
    "# can be positive, negative or zero\n",
    "num1 = 20\n",
    "num2 = -25\n",
    "num3 = 10**100 #power\n",
    "print(num3)\n",
    "\n",
    "a = 10\n",
    "b = 3\n",
    "\n",
    "print(a + b)\n",
    "print(a - b)\n",
    "print(a / b)\n",
    "print(a * b)\n",
    "print(a // b)\n",
    "print(a % b)\n",
    "print(a ** b)\n",
    "\n"
   ]
  },
  {
   "cell_type": "markdown",
   "id": "faa36308",
   "metadata": {},
   "source": [
    "## Floats"
   ]
  },
  {
   "cell_type": "code",
   "execution_count": 31,
   "id": "aa567601",
   "metadata": {},
   "outputs": [
    {
     "name": "stdout",
     "output_type": "stream",
     "text": [
      "1200.0\n",
      "<class 'float'>\n",
      "0.8\n",
      "0.30000000000000004\n",
      "0.3\n"
     ]
    }
   ],
   "source": [
    "pi = 3.31415\n",
    "val = -2.5\n",
    "sci = 1.2e3\n",
    "\n",
    "print(sci)\n",
    "print(type(pi))\n",
    "\n",
    "print(0.3 + 0.5)\n",
    "print(0.1 + 0.2)\n",
    "from decimal import Decimal\n",
    "print(Decimal(\"0.1\") + Decimal(\"0.2\"))\n",
    "\n",
    "\n"
   ]
  },
  {
   "cell_type": "code",
   "execution_count": null,
   "id": "7c9f274d",
   "metadata": {},
   "outputs": [
    {
     "name": "stdout",
     "output_type": "stream",
     "text": [
      "2\n",
      "9\n",
      "8\n",
      "(3, 1)\n"
     ]
    }
   ],
   "source": [
    "print(int(2.6))\n",
    "print(abs(-9))\n",
    "print(pow(2, 3))\n",
    "print(divmod(10, 3)) # 10 is a dividend and 3 is the divisor"
   ]
  },
  {
   "cell_type": "code",
   "execution_count": null,
   "id": "c4f1046d",
   "metadata": {},
   "outputs": [
    {
     "name": "stdout",
     "output_type": "stream",
     "text": [
      "8.0\n",
      "120\n",
      "12\n",
      "2.0\n"
     ]
    }
   ],
   "source": [
    "import math\n",
    "\n",
    "print(math.sqrt(64))\n",
    "print(math.factorial(5)) # mutliplication of values from 1 to number 5\n",
    "print(math.gcd(24, 36))\n",
    "print(math.log(100, 10))\n"
   ]
  },
  {
   "cell_type": "markdown",
   "id": "3e5c0b71",
   "metadata": {},
   "source": [
    "## Booleans"
   ]
  },
  {
   "cell_type": "code",
   "execution_count": 46,
   "id": "6ca474a6",
   "metadata": {},
   "outputs": [
    {
     "name": "stdout",
     "output_type": "stream",
     "text": [
      "False\n",
      "True\n",
      "True\n",
      "2\n",
      "True\n",
      "10\n",
      "0\n",
      "11\n"
     ]
    }
   ],
   "source": [
    "print(3 > 5)\n",
    "print(3 < 5)\n",
    "print(True == 1)\n",
    "print(True + True)\n",
    "print(False == 0)\n",
    "print(False + 10)\n",
    "print(False + False)\n",
    "print(True + 10)\n",
    "# print(True == 1)"
   ]
  },
  {
   "cell_type": "markdown",
   "id": "878aefab",
   "metadata": {},
   "source": [
    "Falsy values:\n",
    "\n",
    "1. 0(numeric zero: 0, 0.0, oj)\n",
    "2. (\"\")empty string\n",
    "3. []empty list\n",
    "4. ()empty tuple\n",
    "5. {}empty dict\n",
    "6. set() empty set\n",
    "7. none"
   ]
  },
  {
   "cell_type": "markdown",
   "id": "72eba5af",
   "metadata": {},
   "source": [
    "## List"
   ]
  },
  {
   "cell_type": "code",
   "execution_count": 50,
   "id": "9a8be61b",
   "metadata": {},
   "outputs": [
    {
     "name": "stdout",
     "output_type": "stream",
     "text": [
      "['mango', 'lemon', 'orange']\n",
      "orange\n",
      "<class 'list'>\n"
     ]
    }
   ],
   "source": [
    "fruits = [\"mango\", \"lemon\", \"orange\"]\n",
    "print(fruits)\n",
    "\n",
    "fruits.append(\"banana\")\n",
    "print(fruits[2])\n",
    "print(type(fruits))"
   ]
  },
  {
   "cell_type": "markdown",
   "id": "eb1afec4",
   "metadata": {},
   "source": [
    "## Tuples"
   ]
  },
  {
   "cell_type": "code",
   "execution_count": null,
   "id": "9c8cedb0",
   "metadata": {},
   "outputs": [
    {
     "name": "stdout",
     "output_type": "stream",
     "text": [
      "(20, 30)\n",
      "<class 'tuple'>\n"
     ]
    }
   ],
   "source": [
    "coordinates = (20, 30)\n",
    "print(coordinates)\n",
    "print(type(coordinates))\n"
   ]
  },
  {
   "cell_type": "markdown",
   "id": "c300dfd5",
   "metadata": {},
   "source": [
    "## Range - a sequence of numbers"
   ]
  },
  {
   "cell_type": "code",
   "execution_count": 53,
   "id": "51ed85d2",
   "metadata": {},
   "outputs": [
    {
     "name": "stdout",
     "output_type": "stream",
     "text": [
      "[0, 1, 2, 3, 4, 5, 6, 7, 8, 9]\n"
     ]
    }
   ],
   "source": [
    "numbers = range(10)\n",
    "print(list(numbers))"
   ]
  },
  {
   "cell_type": "markdown",
   "id": "66aed21e",
   "metadata": {},
   "source": [
    "## Sets"
   ]
  },
  {
   "cell_type": "code",
   "execution_count": 64,
   "id": "28215e3b",
   "metadata": {},
   "outputs": [
    {
     "name": "stdout",
     "output_type": "stream",
     "text": [
      "{'red', 'blue', 'green'}\n",
      "{'red', 'purple', 'blue', 'green'}\n"
     ]
    }
   ],
   "source": [
    "colors = {\"blue\", \"red\", \"green\", \"blue\"}\n",
    "print(colors)\n",
    "colors.add(\"purple\")\n",
    "print(colors)"
   ]
  },
  {
   "cell_type": "markdown",
   "id": "d7d268b6",
   "metadata": {},
   "source": [
    "## Dictionaries"
   ]
  },
  {
   "cell_type": "code",
   "execution_count": 63,
   "id": "683a4670",
   "metadata": {},
   "outputs": [
    {
     "name": "stdout",
     "output_type": "stream",
     "text": [
      "{'name': 'Alice', 'age': 20}\n",
      "Alice\n",
      "<class 'dict'>\n"
     ]
    }
   ],
   "source": [
    "student = {\"name\": \"Alice\", \"age\": 20}\n",
    "print(student)\n",
    "print(student[\"name\"])\n",
    "print(type(student))\n"
   ]
  },
  {
   "cell_type": "markdown",
   "id": "e420de1b",
   "metadata": {},
   "source": [
    "## None"
   ]
  },
  {
   "cell_type": "code",
   "execution_count": 62,
   "id": "da017a5c",
   "metadata": {},
   "outputs": [
    {
     "name": "stdout",
     "output_type": "stream",
     "text": [
      "<class 'NoneType'>\n",
      "<class 'int'>\n"
     ]
    }
   ],
   "source": [
    "b = None\n",
    "print(type(b))\n",
    "b = 3\n",
    "print(type(b))"
   ]
  },
  {
   "cell_type": "markdown",
   "id": "eb3b98de",
   "metadata": {},
   "source": [
    "## Conditional Statements"
   ]
  },
  {
   "cell_type": "code",
   "execution_count": null,
   "id": "fd86f805",
   "metadata": {},
   "outputs": [
    {
     "name": "stdout",
     "output_type": "stream",
     "text": [
      "You are an adult\n",
      "Even\n"
     ]
    }
   ],
   "source": [
    "age = 18\n",
    "\n",
    "if age >= 18:\n",
    "    print(\"You are an adult\")\n",
    "else:\n",
    "    print(\"You are a minor\")\n",
    "\n",
    "num = 8\n",
    "\n",
    "if num % 2 == 0:\n",
    "    print(\"Even\")\n",
    "else:\n",
    "    print(\"odd\")\n",
    "\n",
    "    "
   ]
  },
  {
   "cell_type": "code",
   "execution_count": 68,
   "id": "c0b8ff7a",
   "metadata": {},
   "outputs": [
    {
     "name": "stdout",
     "output_type": "stream",
     "text": [
      "F\n"
     ]
    }
   ],
   "source": [
    "score = int(input(\"Enter your score: \"))\n",
    "\n",
    "if score >= 90:\n",
    "    print(\"A\")\n",
    "elif score >= 80:\n",
    "    print(\"B\")\n",
    "elif score >= 70:\n",
    "    print(\"C\")\n",
    "else:\n",
    "    print(\"F\")\n"
   ]
  },
  {
   "cell_type": "code",
   "execution_count": 69,
   "id": "d4ee1e83",
   "metadata": {},
   "outputs": [
    {
     "name": "stdout",
     "output_type": "stream",
     "text": [
      "Positive Odd\n"
     ]
    }
   ],
   "source": [
    "x = 7\n",
    "\n",
    "if x > 0:\n",
    "    if x % 2 == 0:\n",
    "        print(\"Positive Even\")\n",
    "    else:\n",
    "        print(\"Positive Odd\")\n",
    "else:\n",
    "    print(\"Negative Number \")"
   ]
  },
  {
   "cell_type": "code",
   "execution_count": 76,
   "id": "426da271",
   "metadata": {},
   "outputs": [
    {
     "name": "stdout",
     "output_type": "stream",
     "text": [
      "Invalid operator\n"
     ]
    }
   ],
   "source": [
    "num1 = int(input(\"Enter the first number: \"))\n",
    "num2 = int(input(\"Enter the second number\"))\n",
    "operator = input(\"Choose an operator (+, -, /, *)\")\n",
    "\n",
    "if operator == \"+\":\n",
    "    print(num1 + num2)\n",
    "elif operator == \"-\":\n",
    "    print(num1 - num2)\n",
    "elif operator == \"*\":\n",
    "    print(num1 * num2)\n",
    "elif operator == \"/\":\n",
    "    print(num1 / num2)\n",
    "else:\n",
    "    print(\"Invalid operator\")\n",
    "\n",
    "\n",
    "\n"
   ]
  }
 ],
 "metadata": {
  "kernelspec": {
   "display_name": "virtual",
   "language": "python",
   "name": "python3"
  },
  "language_info": {
   "codemirror_mode": {
    "name": "ipython",
    "version": 3
   },
   "file_extension": ".py",
   "mimetype": "text/x-python",
   "name": "python",
   "nbconvert_exporter": "python",
   "pygments_lexer": "ipython3",
   "version": "3.13.7"
  }
 },
 "nbformat": 4,
 "nbformat_minor": 5
}
